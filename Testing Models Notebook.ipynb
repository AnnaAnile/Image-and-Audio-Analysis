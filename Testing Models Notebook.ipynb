{
 "cells": [
  {
   "cell_type": "markdown",
   "id": "humanitarian-packing",
   "metadata": {},
   "source": [
    "# Notebook Per il Testing Dei modelli"
   ]
  },
  {
   "cell_type": "markdown",
   "id": "corresponding-injection",
   "metadata": {},
   "source": [
    "In questo notebook è possibile testare i modelli visti negli altri 2 notebook su un validation set.\n",
    "Si compone di 2 parti: una relativa alle Immagini e una relativa agli Audio.\n"
   ]
  },
  {
   "cell_type": "markdown",
   "id": "missing-fruit",
   "metadata": {},
   "source": [
    "### IMPORT"
   ]
  },
  {
   "cell_type": "code",
   "execution_count": 1,
   "id": "secret-combat",
   "metadata": {},
   "outputs": [],
   "source": [
    "import numpy as np \n",
    "import pandas as pd\n",
    "import cv2\n",
    "import os\n",
    "import seaborn as sns\n",
    "import matplotlib.pyplot as plt\n",
    "%matplotlib inline\n",
    "import pickle as pkl\n",
    "import librosa\n",
    "import IPython.display as ipd\n",
    "import librosa.display\n",
    "\n",
    "import soundfile as sf\n",
    "import sklearn\n",
    "from sklearn import metrics\n",
    "from sklearn.utils import shuffle\n",
    "from sklearn.model_selection import cross_val_score, train_test_split, KFold\n",
    "from sklearn.metrics import classification_report, roc_curve, auc, mean_squared_error, mean_absolute_error\n",
    "from sklearn.neighbors import KNeighborsClassifier\n",
    "from sklearn.svm import SVC, OneClassSVM\n",
    "from sklearn.tree import DecisionTreeClassifier\n",
    "from sklearn.ensemble import AdaBoostClassifier, IsolationForest\n",
    "from sklearn.covariance import EllipticEnvelope\n",
    "\n",
    "import scikitplot as skplt\n",
    "import tensorflow.keras.models as Models\n",
    "import tensorflow.keras.layers as Layers\n",
    "import tensorflow.keras.activations as Activations\n",
    "import tensorflow.keras.optimizers as Optimizer\n",
    "\n",
    "import tensorflow as tf\n",
    "from tensorflow.keras.callbacks import ReduceLROnPlateau\n",
    "from tensorflow.keras.models import Sequential\n",
    "from tensorflow.keras.layers import Dense, Dropout, Flatten, Conv2D, MaxPool2D, BatchNormalization, Activation, MaxPooling2D, AveragePooling2D, GlobalAveragePooling2D\n",
    "\n",
    "import warnings\n",
    "warnings.filterwarnings('ignore')\n",
    "\n",
    "dataset_Imm_dir = os.path.join(\"Datasets/Validation_Set_Immagini\")\n",
    "modelli_Imm_dir = os.path.join(\"Modelli/Immagini\")\n",
    "dataset_Audio_dir = os.path.join(\"Datasets/Validation_Set_Audio\")\n",
    "modelli_Audio_dir = os.path.join(\"Modelli/Audio\")\n",
    "spettri_dir = os.path.join(\"Datasets/SpettriAudio\")"
   ]
  },
  {
   "cell_type": "markdown",
   "id": "clear-going",
   "metadata": {},
   "source": [
    "## Immagini"
   ]
  },
  {
   "cell_type": "markdown",
   "id": "certified-defense",
   "metadata": {},
   "source": [
    "Nella cella seguente carichiamo il dataset: "
   ]
  },
  {
   "cell_type": "code",
   "execution_count": 2,
   "id": "neutral-hudson",
   "metadata": {},
   "outputs": [],
   "source": [
    "def get_images(directory):\n",
    "    Images=[]\n",
    "    Labels=[]\n",
    "    #definiamo un dizionario che andrà a contenere i tipi di etichette che abbiamo\n",
    "    label_dict={}\n",
    "    i=0\n",
    "    for filename in os.listdir(directory):\n",
    "        #Usiamo la riga sottostante per prelevare le immagini a colori\n",
    "        #imm = cv2.imread(os.path.join(directory,filename))\n",
    "        #noi vogliamo trasformarle in scala di grigi, quinsi usiamo la riga seguente\n",
    "        imm=cv2.cvtColor(cv2.imread(os.path.join(directory,filename)), cv2.COLOR_BGR2GRAY)\n",
    "        imm = cv2.resize(imm,(60,80))\n",
    "        Images.append(imm)\n",
    "        label=filename.split(\"_\")[0]\n",
    "        if label not in label_dict:\n",
    "            label_dict[label]=i\n",
    "            Labels.append(i)\n",
    "            i=i+1\n",
    "        else:\n",
    "            Labels.append(label_dict[label])\n",
    "    return (Images,Labels, label_dict)"
   ]
  },
  {
   "cell_type": "code",
   "execution_count": 3,
   "id": "complicated-sullivan",
   "metadata": {},
   "outputs": [],
   "source": [
    "Images, Labels, label_dict =get_images(dataset_Imm_dir)"
   ]
  },
  {
   "cell_type": "markdown",
   "id": "amateur-daisy",
   "metadata": {},
   "source": [
    "Andiamo a vedere quanti valori unici abbiamo per le etichette:"
   ]
  },
  {
   "cell_type": "code",
   "execution_count": 4,
   "id": "worst-ivory",
   "metadata": {},
   "outputs": [
    {
     "data": {
      "text/plain": [
       "{'belts': 0, 'casual-shoes': 1, 'sports-shoes': 2, 'wallets': 3}"
      ]
     },
     "execution_count": 4,
     "metadata": {},
     "output_type": "execute_result"
    }
   ],
   "source": [
    "label_dict"
   ]
  },
  {
   "cell_type": "code",
   "execution_count": 4,
   "id": "fifth-premiere",
   "metadata": {},
   "outputs": [],
   "source": [
    "Images = np.array(Images)\n",
    "Labels = np.array(Labels)\n",
    "\n",
    "#creazione test set per classificatori \"standard\"\n",
    "dataset_size = len(Images)\n",
    "X_test = Images.reshape(dataset_size,-1)\n",
    "Y_test = Labels\n",
    "\n",
    "#creazione test set per CNN\n",
    "X_test_CNN = np.expand_dims(Images,axis=3)\n",
    "Y_test_CNN = Labels"
   ]
  },
  {
   "cell_type": "markdown",
   "id": "opening-confirmation",
   "metadata": {},
   "source": [
    "Nella cella seguente andiamo a caricare tutti i modelli:"
   ]
  },
  {
   "cell_type": "code",
   "execution_count": 9,
   "id": "amateur-romania",
   "metadata": {},
   "outputs": [
    {
     "name": "stdout",
     "output_type": "stream",
     "text": [
      "KNN MODEL\n",
      "knn accuracy: 0.8433179723502304\n",
      "              precision    recall  f1-score   support\n",
      "\n",
      "           0       1.00      1.00      1.00        32\n",
      "           1       0.46      0.87      0.60        30\n",
      "           2       0.94      0.69      0.80        97\n",
      "           3       1.00      1.00      1.00        58\n",
      "\n",
      "    accuracy                           0.84       217\n",
      "   macro avg       0.85      0.89      0.85       217\n",
      "weighted avg       0.90      0.84      0.85       217\n",
      "\n"
     ]
    },
    {
     "data": {
      "text/plain": [
       "<AxesSubplot:title={'center':'Confusion Matrix'}, xlabel='Predicted label', ylabel='True label'>"
      ]
     },
     "execution_count": 9,
     "metadata": {},
     "output_type": "execute_result"
    },
    {
     "data": {
      "image/png": "[encoded data removed]",
      "text/plain": [
       "<Figure size 432x432 with 2 Axes>"
      ]
     },
     "metadata": {
      "needs_background": "light"
     },
     "output_type": "display_data"
    }
   ],
   "source": [
    "print(\"KNN MODEL\")\n",
    "#Knn model\n",
    "with open(os.path.join(modelli_Imm_dir,'knn.pkl'), 'rb') as file:\n",
    "    KNN = pkl.load(file)\n",
    "result_knn = KNN.score(X_test, Y_test)\n",
    "print(f\"knn accuracy: {result_knn}\")\n",
    "y_pred = KNN.predict(X_test)\n",
    "print(classification_report(Y_test, y_pred))\n",
    "skplt.metrics.plot_confusion_matrix(Y_test,y_pred,figsize=(6,6))"
   ]
  },
  {
   "cell_type": "code",
   "execution_count": 10,
   "id": "dependent-movie",
   "metadata": {},
   "outputs": [
    {
     "name": "stdout",
     "output_type": "stream",
     "text": [
      "LINEAR SVM MODEL\n",
      "linear SVM accuracy: 0.9539170506912442\n",
      "              precision    recall  f1-score   support\n",
      "\n",
      "           0       1.00      1.00      1.00        32\n",
      "           1       0.75      1.00      0.86        30\n",
      "           2       1.00      0.90      0.95        97\n",
      "           3       1.00      1.00      1.00        58\n",
      "\n",
      "    accuracy                           0.95       217\n",
      "   macro avg       0.94      0.97      0.95       217\n",
      "weighted avg       0.97      0.95      0.96       217\n",
      "\n"
     ]
    },
    {
     "data": {
      "text/plain": [
       "<AxesSubplot:title={'center':'Confusion Matrix'}, xlabel='Predicted label', ylabel='True label'>"
      ]
     },
     "execution_count": 10,
     "metadata": {},
     "output_type": "execute_result"
    },
    {
     "data": {
      "image/png": "[encoded data removed]",
      "text/plain": [
       "<Figure size 432x432 with 2 Axes>"
      ]
     },
     "metadata": {
      "needs_background": "light"
     },
     "output_type": "display_data"
    }
   ],
   "source": [
    "print(\"LINEAR SVM MODEL\")\n",
    "#linear_SVM model\n",
    "with open(os.path.join(modelli_Imm_dir,'svm_linear.pkl'), 'rb') as file:\n",
    "    SVM_l = pkl.load(file) \n",
    "result_SVM_l = SVM_l.score(X_test, Y_test)\n",
    "print(f\"linear SVM accuracy: {result_SVM_l}\")\n",
    "y_pred = SVM_l.predict(X_test)\n",
    "print(classification_report(Y_test, y_pred))\n",
    "skplt.metrics.plot_confusion_matrix(Y_test,y_pred,figsize=(6,6))\n"
   ]
  },
  {
   "cell_type": "code",
   "execution_count": 11,
   "id": "increasing-association",
   "metadata": {},
   "outputs": [
    {
     "name": "stdout",
     "output_type": "stream",
     "text": [
      "POLINOMIAL SVM MODEL\n",
      "polinomial SVM accuracy: 0.9723502304147466\n",
      "              precision    recall  f1-score   support\n",
      "\n",
      "           0       1.00      1.00      1.00        32\n",
      "           1       0.83      1.00      0.91        30\n",
      "           2       1.00      0.94      0.97        97\n",
      "           3       1.00      1.00      1.00        58\n",
      "\n",
      "    accuracy                           0.97       217\n",
      "   macro avg       0.96      0.98      0.97       217\n",
      "weighted avg       0.98      0.97      0.97       217\n",
      "\n"
     ]
    },
    {
     "data": {
      "text/plain": [
       "<AxesSubplot:title={'center':'Confusion Matrix'}, xlabel='Predicted label', ylabel='True label'>"
      ]
     },
     "execution_count": 11,
     "metadata": {},
     "output_type": "execute_result"
    },
    {
     "data": {
      "image/png": "[encoded data removed]",
      "text/plain": [
       "<Figure size 432x432 with 2 Axes>"
      ]
     },
     "metadata": {
      "needs_background": "light"
     },
     "output_type": "display_data"
    }
   ],
   "source": [
    "print(\"POLINOMIAL SVM MODEL\")\n",
    "#polinomial_SVM model\n",
    "with open(os.path.join(modelli_Imm_dir,'svm_poly.pkl'), 'rb') as file:\n",
    "    SVM_p = pkl.load(file)\n",
    "result_SVM_p = SVM_p.score(X_test, Y_test)\n",
    "print(f\"polinomial SVM accuracy: {result_SVM_p}\")\n",
    "y_pred = SVM_p.predict(X_test)\n",
    "print(classification_report(Y_test, y_pred))\n",
    "skplt.metrics.plot_confusion_matrix(Y_test,y_pred,figsize=(6,6))"
   ]
  },
  {
   "cell_type": "code",
   "execution_count": 12,
   "id": "informed-canada",
   "metadata": {},
   "outputs": [
    {
     "name": "stdout",
     "output_type": "stream",
     "text": [
      "RBF SVM MODEL\n",
      "rpf SVM accuracy: 0.8617511520737328\n",
      "              precision    recall  f1-score   support\n",
      "\n",
      "           0       1.00      1.00      1.00        32\n",
      "           1       0.50      0.93      0.65        30\n",
      "           2       0.97      0.71      0.82        97\n",
      "           3       1.00      1.00      1.00        58\n",
      "\n",
      "    accuracy                           0.86       217\n",
      "   macro avg       0.87      0.91      0.87       217\n",
      "weighted avg       0.92      0.86      0.87       217\n",
      "\n"
     ]
    },
    {
     "data": {
      "text/plain": [
       "<AxesSubplot:title={'center':'Confusion Matrix'}, xlabel='Predicted label', ylabel='True label'>"
      ]
     },
     "execution_count": 12,
     "metadata": {},
     "output_type": "execute_result"
    },
    {
     "data": {
      "image/png": "[encoded data removed]",
      "text/plain": [
       "<Figure size 432x432 with 2 Axes>"
      ]
     },
     "metadata": {
      "needs_background": "light"
     },
     "output_type": "display_data"
    }
   ],
   "source": [
    "print(\"RBF SVM MODEL\")\n",
    "#rpf_SVM model\n",
    "with open(os.path.join(modelli_Imm_dir,'svm_rbf.pkl'), 'rb') as file:\n",
    "    SVM_rpf = pkl.load(file)\n",
    "result_SVM_rpf = SVM_rpf.score(X_test, Y_test)\n",
    "print(f\"rpf SVM accuracy: {result_SVM_rpf}\")\n",
    "y_pred = SVM_rpf.predict(X_test)\n",
    "print(classification_report(Y_test, y_pred))\n",
    "skplt.metrics.plot_confusion_matrix(Y_test,y_pred,figsize=(6,6))"
   ]
  },
  {
   "cell_type": "code",
   "execution_count": 13,
   "id": "available-equality",
   "metadata": {},
   "outputs": [
    {
     "name": "stdout",
     "output_type": "stream",
     "text": [
      "ADABOOST MODEL\n",
      "AdaBoost accuracy: 0.9631336405529954\n",
      "              precision    recall  f1-score   support\n",
      "\n",
      "           0       0.97      0.97      0.97        32\n",
      "           1       0.83      1.00      0.91        30\n",
      "           2       1.00      0.94      0.97        97\n",
      "           3       0.98      0.98      0.98        58\n",
      "\n",
      "    accuracy                           0.96       217\n",
      "   macro avg       0.95      0.97      0.96       217\n",
      "weighted avg       0.97      0.96      0.96       217\n",
      "\n"
     ]
    },
    {
     "data": {
      "text/plain": [
       "<AxesSubplot:title={'center':'Confusion Matrix'}, xlabel='Predicted label', ylabel='True label'>"
      ]
     },
     "execution_count": 13,
     "metadata": {},
     "output_type": "execute_result"
    },
    {
     "data": {
      "image/png": "[encoded data removed]",
      "text/plain": [
       "<Figure size 432x432 with 2 Axes>"
      ]
     },
     "metadata": {
      "needs_background": "light"
     },
     "output_type": "display_data"
    }
   ],
   "source": [
    "print(\"ADABOOST MODEL\")\n",
    "#AdaBoost model\n",
    "with open(os.path.join(modelli_Imm_dir,'AdaBoost.pkl'), 'rb') as file:\n",
    "    ADB = pkl.load(file)\n",
    "result_ADB = ADB.score(X_test, Y_test)\n",
    "print(f\"AdaBoost accuracy: {result_ADB}\")\n",
    "y_pred = ADB.predict(X_test)\n",
    "print(classification_report(Y_test, y_pred))\n",
    "skplt.metrics.plot_confusion_matrix(Y_test,y_pred,figsize=(6,6))"
   ]
  },
  {
   "cell_type": "code",
   "execution_count": 14,
   "id": "composed-peter",
   "metadata": {},
   "outputs": [
    {
     "name": "stdout",
     "output_type": "stream",
     "text": [
      "CNN\n",
      "7/7 [==============================] - 1s 59ms/step - loss: 0.3228 - accuracy: 0.8433\n"
     ]
    }
   ],
   "source": [
    "print(\"CNN\")\n",
    "#CNN\n",
    "CNN_model=tf.keras.models.load_model(os.path.join(modelli_Imm_dir,'CNN'))\n",
    "test_loss = CNN_model.evaluate(X_test_CNN, Y_test_CNN)"
   ]
  },
  {
   "cell_type": "code",
   "execution_count": 17,
   "id": "honest-basketball",
   "metadata": {},
   "outputs": [
    {
     "name": "stdout",
     "output_type": "stream",
     "text": [
      "Accuratezza: 0.843317985534668\n"
     ]
    },
    {
     "name": "stdout",
     "output_type": "stream",
     "text": [
      "Precision on test set:  0.9036114584744223\n"
     ]
    },
    {
     "data": {
      "text/plain": [
       "<AxesSubplot:title={'center':'Confusion Matrix'}, xlabel='Predicted label', ylabel='True label'>"
      ]
     },
     "execution_count": 17,
     "metadata": {},
     "output_type": "execute_result"
    },
    {
     "data": {
      "image/png": "[encoded data removed]",
      "text/plain": [
       "<Figure size 432x432 with 2 Axes>"
      ]
     },
     "metadata": {
      "needs_background": "light"
     },
     "output_type": "display_data"
    }
   ],
   "source": [
    "#Accuracy\n",
    "print( \"Accuratezza:\" ,test_loss[1])\n",
    "\n",
    "# Precision\n",
    "y_pred_nn = CNN_model.predict_classes(X_test_CNN)\n",
    "print('Precision on test set: ', metrics.precision_score(Y_test_CNN, y_pred_nn, average='weighted'))\n",
    "\n",
    "skplt.metrics.plot_confusion_matrix(Y_test_CNN, y_pred_nn, figsize=(6,6))"
   ]
  },
  {
   "cell_type": "markdown",
   "id": "vocational-mileage",
   "metadata": {},
   "source": [
    "Nella cella seguente la parte relativa alla anomaly detection:"
   ]
  },
  {
   "cell_type": "code",
   "execution_count": 5,
   "id": "solid-modern",
   "metadata": {},
   "outputs": [],
   "source": [
    "normal=[] #immagini normali, ovvero tutte le immagini casual_shoes (classe più grande)\n",
    "lab=[] # label nomali (1)\n",
    "a_lab=[] #label anomali (-1)  \n",
    "anomaly=[] #immagini anormali, ovvero tutte le rimanenti presenti nelle altre classi: wallets, sport_shoes, belts\n",
    "c=0\n",
    "for i in Images:\n",
    "    if Labels[c]==1:\n",
    "        normal.append(i)\n",
    "        lab.append(1)\n",
    "    else:\n",
    "        anomaly.append(i)\n",
    "        a_lab.append(-1)\n",
    "    c+=1\n",
    "\n",
    "#poichè abbiamo trasformato le immagini in grayscale dobbiamo aggiungere una dimensione\n",
    "normal = np.expand_dims(np.array(normal), axis=3)\n",
    "anomaly = np.expand_dims(np.array(anomaly), axis=3)\n",
    "norm_labels = np.array(lab, dtype='int32')\n",
    "anom_labels = np.array(a_lab, dtype='int32')\n",
    "\n",
    "nsamples, nx, ny, nz = normal.shape\n",
    "normal1 = normal.reshape((nsamples,nx*ny*nz))\n",
    "\n",
    "asamples, ax, ay, az = anomaly.shape\n",
    "anomaly1 = anomaly.reshape((asamples,ax*ay*az))\n",
    "\n",
    "X_test_AD=normal1\n",
    "Y_test_AD=norm_labels\n",
    "\n",
    "test_set = np.append(X_test_AD, anomaly1, axis=0)\n",
    "test_labels = np.append(Y_test_AD, anom_labels)"
   ]
  },
  {
   "cell_type": "code",
   "execution_count": 6,
   "id": "ranging-newman",
   "metadata": {},
   "outputs": [
    {
     "name": "stdout",
     "output_type": "stream",
     "text": [
      "Anomaly Detection With ONE CLASS SVM\n",
      "              precision    recall  f1-score   support\n",
      "\n",
      "          -1       0.92      1.00      0.96       187\n",
      "           1       1.00      0.43      0.60        30\n",
      "\n",
      "    accuracy                           0.92       217\n",
      "   macro avg       0.96      0.72      0.78       217\n",
      "weighted avg       0.93      0.92      0.91       217\n",
      "\n"
     ]
    }
   ],
   "source": [
    "print(\"Anomaly Detection With ONE CLASS SVM\")\n",
    "#ONE CLASS SVM\n",
    "with open(os.path.join(modelli_Imm_dir,'AnDetOCSVM.pkl'), 'rb') as file:\n",
    "    ocsvm = pkl.load(file)\n",
    "    \n",
    "y_pred_ad = ocsvm.predict(X_test_AD)\n",
    "a_pred = ocsvm.predict(anomaly1)\n",
    "\n",
    "pred = np.append(y_pred_ad, a_pred)\n",
    "t_labels = np.append(Y_test_AD, anom_labels)\n",
    "\n",
    "print(classification_report(t_labels, pred))"
   ]
  },
  {
   "cell_type": "code",
   "execution_count": 7,
   "id": "collectible-purchase",
   "metadata": {},
   "outputs": [
    {
     "data": {
      "image/png": "[encoded data removed]",
      "text/plain": [
       "<Figure size 432x288 with 1 Axes>"
      ]
     },
     "metadata": {
      "needs_background": "light"
     },
     "output_type": "display_data"
    }
   ],
   "source": [
    "# Calcola la curva ROC e l'area ROC per le previsioni sul set di convalida\n",
    "fpr, tpr, _ = roc_curve(t_labels, pred)\n",
    "roc_auc = auc(fpr, tpr)\n",
    "\n",
    "# Plot\n",
    "plt.figure()\n",
    "plt.plot(fpr, tpr, color='darkorange',\n",
    "         lw=2, label='ROC curve (area = %0.2f)' % roc_auc)\n",
    "plt.plot([0, 1], [0, 1], color='navy', lw=2, linestyle='--')\n",
    "plt.xlim([0.0, 1.0])\n",
    "plt.ylim([0.0, 1.05])\n",
    "plt.xlabel('False Positive Rate')\n",
    "plt.ylabel('True Positive Rate')\n",
    "plt.title('svm_ROC')\n",
    "plt.legend(loc=\"lower right\")\n",
    "plt.show()"
   ]
  },
  {
   "cell_type": "code",
   "execution_count": 8,
   "id": "piano-capability",
   "metadata": {},
   "outputs": [
    {
     "name": "stdout",
     "output_type": "stream",
     "text": [
      "Anomaly Detection With Isolation Forest\n",
      "              precision    recall  f1-score   support\n",
      "\n",
      "          -1       0.95      0.31      0.47       187\n",
      "           1       0.17      0.90      0.29        30\n",
      "\n",
      "    accuracy                           0.39       217\n",
      "   macro avg       0.56      0.61      0.38       217\n",
      "weighted avg       0.84      0.39      0.44       217\n",
      "\n"
     ]
    }
   ],
   "source": [
    "print(\"Anomaly Detection With Isolation Forest\")\n",
    "#IsolationForest\n",
    "with open(os.path.join(modelli_Imm_dir,'AnDetIsolationForest.pkl'), 'rb') as file:\n",
    "    Iso_f = pkl.load(file)\n",
    "    \n",
    "y_pred_ad = Iso_f.predict(X_test_AD)\n",
    "a_pred = Iso_f.predict(anomaly1)\n",
    "\n",
    "pred = np.append(y_pred_ad, a_pred)\n",
    "t_labels = np.append(Y_test_AD, anom_labels)\n",
    "\n",
    "print(classification_report(t_labels, pred))"
   ]
  },
  {
   "cell_type": "code",
   "execution_count": 9,
   "id": "applied-knight",
   "metadata": {},
   "outputs": [
    {
     "data": {
      "image/png": "[encoded data removed]",
      "text/plain": [
       "<Figure size 432x288 with 1 Axes>"
      ]
     },
     "metadata": {
      "needs_background": "light"
     },
     "output_type": "display_data"
    }
   ],
   "source": [
    "# Calcola la curva ROC e l'area ROC per le previsioni sul set di convalida\n",
    "fpr, tpr, _ = roc_curve(t_labels, pred)\n",
    "roc_auc = auc(fpr, tpr)\n",
    "\n",
    "# Plot\n",
    "plt.figure()\n",
    "plt.plot(fpr, tpr, color='darkorange',\n",
    "         lw=2, label='ROC curve (area = %0.2f)' % roc_auc)\n",
    "plt.plot([0, 1], [0, 1], color='navy', lw=2, linestyle='--')\n",
    "plt.xlim([0.0, 1.0])\n",
    "plt.ylim([0.0, 1.05])\n",
    "plt.xlabel('False Positive Rate')\n",
    "plt.ylabel('True Positive Rate')\n",
    "plt.title('IsolationForest_ROC')\n",
    "plt.legend(loc=\"lower right\")\n",
    "plt.show()"
   ]
  },
  {
   "cell_type": "code",
   "execution_count": 10,
   "id": "fallen-latin",
   "metadata": {},
   "outputs": [
    {
     "name": "stdout",
     "output_type": "stream",
     "text": [
      "Anomaly Detection With Local Outlier Factor\n",
      "              precision    recall  f1-score   support\n",
      "\n",
      "          -1       0.92      1.00      0.96       187\n",
      "           1       1.00      0.43      0.60        30\n",
      "\n",
      "    accuracy                           0.92       217\n",
      "   macro avg       0.96      0.72      0.78       217\n",
      "weighted avg       0.93      0.92      0.91       217\n",
      "\n"
     ]
    }
   ],
   "source": [
    "print(\"Anomaly Detection With Local Outlier Factor\")\n",
    "#Local Outlier Factor\n",
    "with open(os.path.join(modelli_Imm_dir,'AnDetOCSVM.pkl'), 'rb') as file:\n",
    "    LocalOutFact = pkl.load(file)\n",
    "    \n",
    "y_pred_ad = LocalOutFact.predict(X_test_AD)\n",
    "a_pred = LocalOutFact.predict(anomaly1)\n",
    "\n",
    "pred = np.append(y_pred_ad, a_pred)\n",
    "t_labels = np.append(Y_test_AD, anom_labels)\n",
    "\n",
    "print(classification_report(t_labels, pred))"
   ]
  },
  {
   "cell_type": "code",
   "execution_count": 11,
   "id": "desirable-cooling",
   "metadata": {},
   "outputs": [
    {
     "data": {
      "image/png": "[encoded data removed]",
      "text/plain": [
       "<Figure size 432x288 with 1 Axes>"
      ]
     },
     "metadata": {
      "needs_background": "light"
     },
     "output_type": "display_data"
    }
   ],
   "source": [
    "# Calcola la curva ROC e l'area ROC per le previsioni sul set di convalida\n",
    "fpr, tpr, _ = roc_curve(t_labels, pred)\n",
    "roc_auc = auc(fpr, tpr)\n",
    "\n",
    "# Plot\n",
    "plt.figure()\n",
    "plt.plot(fpr, tpr, color='darkorange',\n",
    "         lw=2, label='ROC curve (area = %0.2f)' % roc_auc)\n",
    "plt.plot([0, 1], [0, 1], color='navy', lw=2, linestyle='--')\n",
    "plt.xlim([0.0, 1.0])\n",
    "plt.ylim([0.0, 1.05])\n",
    "plt.xlabel('False Positive Rate')\n",
    "plt.ylabel('True Positive Rate')\n",
    "plt.title('LocalOutlierFactor_ROC')\n",
    "plt.legend(loc=\"lower right\")\n",
    "plt.show()"
   ]
  },
  {
   "cell_type": "markdown",
   "id": "polar-sellers",
   "metadata": {},
   "source": [
    "## Audio"
   ]
  },
  {
   "cell_type": "markdown",
   "id": "forty-ancient",
   "metadata": {},
   "source": [
    "Nella cella seguente carichiamo il dataset: "
   ]
  },
  {
   "cell_type": "code",
   "execution_count": null,
   "id": "southeast-venture",
   "metadata": {},
   "outputs": [],
   "source": [
    "#da modificare\n",
    "def get_images(directory):\n",
    "    Images=[]\n",
    "    Labels=[]\n",
    "    #definiamo un dizionario che andrà a contenere i tipi di etichette che abbiamo\n",
    "    label_dict={}\n",
    "    i=0\n",
    "    for filename in os.listdir(directory):\n",
    "        #Usiamo la riga sottostante per prelevare le immagini a colori\n",
    "        #imm = cv2.imread(os.path.join(directory,filename))\n",
    "        #noi vogliamo trasformarle in scala di grigi, quinsi usiamo la riga seguente\n",
    "        imm=cv2.cvtColor(cv2.imread(os.path.join(directory,filename)), cv2.COLOR_BGR2GRAY)\n",
    "        imm = cv2.resize(imm,(60,80))\n",
    "        Images.append(imm)\n",
    "        label=filename.split(\"_\")[0]\n",
    "        if label not in label_dict:\n",
    "            label_dict[label]=i\n",
    "            Labels.append(i)\n",
    "            i=i+1\n",
    "        else:\n",
    "            Labels.append(label_dict[label])\n",
    "    return (Images,Labels, label_dict)"
   ]
  },
  {
   "cell_type": "code",
   "execution_count": null,
   "id": "refined-utility",
   "metadata": {},
   "outputs": [],
   "source": [
    "# da modificare\n",
    "Audio, Labels, label_dict =get_images(dataset_Audio_dir)"
   ]
  },
  {
   "cell_type": "markdown",
   "id": "narrow-programmer",
   "metadata": {},
   "source": [
    "Andiamo a vedere quanti valori unici abbiamo per le etichette:"
   ]
  },
  {
   "cell_type": "code",
   "execution_count": null,
   "id": "micro-activity",
   "metadata": {},
   "outputs": [],
   "source": [
    "label_dict"
   ]
  },
  {
   "cell_type": "code",
   "execution_count": null,
   "id": "crude-packaging",
   "metadata": {},
   "outputs": [],
   "source": [
    "#da modificare\n",
    "Images = np.array(Images)\n",
    "Labels = np.array(Labels)\n",
    "\n",
    "#creazione test set per classificatori \"standard\"\n",
    "dataset_size = len(Images)\n",
    "X_test = Images.reshape(dataset_size,-1)\n",
    "Y_test = Labels\n",
    "\n",
    "#creazione test set per CNN\n",
    "X_test_CNN = np.expand_dims(Images,axis=3)\n",
    "Y_test_CNN = Labels"
   ]
  },
  {
   "cell_type": "markdown",
   "id": "raised-constitution",
   "metadata": {},
   "source": [
    "Nella cella seguente andiamo a caricare tutti i modelli:"
   ]
  },
  {
   "cell_type": "code",
   "execution_count": null,
   "id": "sunrise-sally",
   "metadata": {},
   "outputs": [],
   "source": [
    "#Knn model\n",
    "KNN = pickle.load(open(os.path.join(modelli_Audio_dir,'knn.pkl'), 'rb'))\n",
    "result_knn = KNN.score(X_test, Y_test)\n",
    "print(f\"knn: {result_knn}\")\n",
    "\n",
    "#linear_SVG model\n",
    "SVG_l = pickle.load(open(os.path.join(modelli_Audio_dir,'svm_linear.pkl') 'rb'))\n",
    "result_SVG_l = SVG_l.score(X_test, Y_test)\n",
    "print(f\"linear SVG: {result_SVG_l}\")\n",
    "\n",
    "#polinomial_SVG model\n",
    "SVG_p = pickle.load(open(os.path.join(modelli_Audio_dir,'svm_poly.pkl'), 'rb'))\n",
    "result_SVG_p = SVG_p.score(X_test, Y_test)\n",
    "print(f\"polinomial SVG: {result_SVG_p}\")\n",
    "\n",
    "#rpf_SVG model\n",
    "SVG_rpf = pickle.load(open(os.path.join(modelli_Audio_dir,'svm_rbf.pkl'), 'rb'))\n",
    "result_SVG_rpf = SVG_rpf.score(X_test, Y_test)\n",
    "print(f\"rpf SVG: {result_SVG_rpf}\")\n",
    "\n",
    "#AdaBoost model\n",
    "ADB = pickle.load(open(os.path.join(modelli_Audio_dir,'AdaBoost.pkl'), 'rb'))\n",
    "result_ADB = ADB.score(X_test, Y_test)\n",
    "print(f\"AdaBoost: {result_ADB}\")\n",
    "\n",
    "#CNN\n",
    "CNN_model=tf.keras.models.load_model(os.path.join(modelli_Audio_dir,'CNN'))\n",
    "test_loss = CNN_model.evaluate(X_test_CNN, Y_test_CNN)"
   ]
  },
  {
   "cell_type": "code",
   "execution_count": null,
   "id": "aggregate-money",
   "metadata": {},
   "outputs": [],
   "source": [
    "#Accuracy\n",
    "print( \"Accuratezza:\" ,test_loss[1])\n",
    "\n",
    "# Precision\n",
    "y_pred_nn = model.predict_classes(X_test_CNN)\n",
    "print('Precision on test set: ', metrics.precision_score(Y_test_CNN, y_pred_nn, average='weighted'))\n",
    "\n",
    "#Grafico di accuratezza e loss\n",
    "plt.figure(figsize = (6,6))\n",
    "plt.plot(history.history['accuracy'], label='accuracy')\n",
    "plt.plot(history.history['loss'], label='loss')\n",
    "plt.title('Accuracy & Loss')\n",
    "plt.xlabel('epochs')\n",
    "plt.ylabel('loss')\n",
    "plt.legend()\n",
    "plt.grid(True)\n",
    "plt.show()\n",
    "\n",
    "\n",
    "skplt.metrics.plot_confusion_matrix(Y_test_CNN, y_pred_nn, figsize=(6,6))"
   ]
  },
  {
   "cell_type": "markdown",
   "id": "attempted-packing",
   "metadata": {},
   "source": [
    "Nella cella seguente la parte relativa alla anomaly detection:"
   ]
  }
 ],
 "metadata": {
  "kernelspec": {
   "display_name": "Python 3",
   "language": "python",
   "name": "python3"
  },
  "language_info": {
   "codemirror_mode": {
    "name": "ipython",
    "version": 3
   },
   "file_extension": ".py",
   "mimetype": "text/x-python",
   "name": "python",
   "nbconvert_exporter": "python",
   "pygments_lexer": "ipython3",
   "version": "3.8.8"
  }
 },
 "nbformat": 4,
 "nbformat_minor": 5
}
